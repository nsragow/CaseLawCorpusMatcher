{
 "cells": [
  {
   "cell_type": "code",
   "execution_count": 1,
   "metadata": {},
   "outputs": [],
   "source": [
    "import sys\n",
    "sys.path.append(\"/Users/noah/Flatiron/FinalProject/CaseLawCorpusMatcher/src/bert_vecs/\")\n",
    "from sensimilarity import PrecompiledModel"
   ]
  },
  {
   "cell_type": "code",
   "execution_count": 2,
   "metadata": {},
   "outputs": [
    {
     "name": "stdout",
     "output_type": "stream",
     "text": [
      "Done!                                            \n",
      "CPU times: user 4min 10s, sys: 1min 1s, total: 5min 12s\n",
      "Wall time: 7min 13s\n"
     ]
    }
   ],
   "source": [
    "%time model = PrecompiledModel(\"/Users/noah/Flatiron/FinalProject/Bert/sen2vec.sqlite3\")"
   ]
  },
  {
   "cell_type": "code",
   "execution_count": 5,
   "metadata": {},
   "outputs": [
    {
     "data": {
      "text/plain": [
       "['Defendant was told that “certain documents” were included in the investigation. \\n',\n",
       " 'The disclosure of the defendants’ confidential informants and the taped interviews would not be calculated to discover evidence that would tend to establish malice or reckless conduct by the defendants, and therefor [sic] entry of summary judgment should not be delayed, Cervantes v. Time, Inc., 464 F.2d 986. \\n',\n",
       " 'The court should have examined those documents and allowed Diversified Development to discover those portions detailing the Estate’s instructions to Hurley and the scope of his authority in connection with the extension of the option deadline. \\n']"
      ]
     },
     "execution_count": 5,
     "metadata": {},
     "output_type": "execute_result"
    }
   ],
   "source": [
    "model.predict(\"they should have been required to reveal the documents in discovery\")"
   ]
  }
 ],
 "metadata": {
  "kernelspec": {
   "display_name": "learn-env",
   "language": "python",
   "name": "learn-env"
  },
  "language_info": {
   "codemirror_mode": {
    "name": "ipython",
    "version": 3
   },
   "file_extension": ".py",
   "mimetype": "text/x-python",
   "name": "python",
   "nbconvert_exporter": "python",
   "pygments_lexer": "ipython3",
   "version": "3.6.6"
  }
 },
 "nbformat": 4,
 "nbformat_minor": 2
}
